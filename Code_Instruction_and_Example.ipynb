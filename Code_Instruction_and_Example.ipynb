{
 "cells": [
  {
   "cell_type": "markdown",
   "source": [
    "## Code instrunction in SageMaker\n",
    "* Please use S3 bucket to read/write for the project\n",
    "* List of buckets\n",
    "    * Read: openkbc-ms-bucket\n",
    "    * Write: openkbc-ms-result-bucket\n",
    "* If you write result onto S3 bucket, please use your ID for creating folder\n",
    "* Codes you created will be backed up onto S3 bucket, and you can find legacy in s3-archive-code folder\n",
    "* You can find pipeline data in pipeline_result folder\n",
    "* You can find main data(raw data) in main_data folder\n"
   ],
   "metadata": {}
  },
  {
   "cell_type": "markdown",
   "source": [
    "#### 1. Loading Package data"
   ],
   "metadata": {}
  },
  {
   "cell_type": "code",
   "execution_count": null,
   "source": [
    "import shap\n",
    "X, y = shap.datasets.adult()\n",
    "X_display, y_display = shap.datasets.adult(display=True)\n",
    "X.head()"
   ],
   "outputs": [],
   "metadata": {}
  },
  {
   "cell_type": "markdown",
   "source": [
    "#### 2. Loading data from S3 bucket"
   ],
   "metadata": {}
  },
  {
   "cell_type": "code",
   "execution_count": null,
   "source": [
    "import pandas as pd\n",
    "bucket = 'openkbc-ms-bucket' # Data bucket\n",
    "filename = 'annotation_metadata/EPIC_HCvB_metadata_baseline_updated-share.csv'\n",
    "meta = pd.read_csv('s3://{}/{}'.format(bucket, filename))\n",
    "meta.head()"
   ],
   "outputs": [],
   "metadata": {}
  },
  {
   "cell_type": "markdown",
   "source": [
    "#### 3. Uploading data to S3 bucket"
   ],
   "metadata": {}
  },
  {
   "cell_type": "code",
   "execution_count": null,
   "source": [
    "bucket='openkbc-ms-result-bucket' # Result bucket \n",
    "filename = 'yourID/test.csv'\n",
    "X.to_csv('s3://{}/{}'.format(bucket, filename))"
   ],
   "outputs": [],
   "metadata": {}
  },
  {
   "cell_type": "markdown",
   "source": [
    "#### 4. Installing external packages"
   ],
   "metadata": {}
  },
  {
   "cell_type": "code",
   "execution_count": null,
   "source": [
    "%conda install -c conda-forge shap # Install packages from conda\n",
    "%pip install scipy # install packages from pip\n",
    "install.packages(\"disk.frame\", repo=\"https://cran.rstudio.com/\") # R install packages (Should start with R kernel)"
   ],
   "outputs": [],
   "metadata": {}
  }
 ],
 "metadata": {
  "orig_nbformat": 4,
  "language_info": {
   "name": "python"
  }
 },
 "nbformat": 4,
 "nbformat_minor": 2
}