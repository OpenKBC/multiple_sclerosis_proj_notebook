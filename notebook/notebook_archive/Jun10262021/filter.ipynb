{
 "cells": [
  {
   "cell_type": "code",
   "execution_count": 9,
   "metadata": {},
   "outputs": [],
   "source": [
    "import pandas as pd\n",
    "import numpy as np\n",
    "\n",
    "cell = ['CD4', 'CD8', 'CD14']\n",
    "for x in cell:\n",
    "    df = pd.read_csv('../data/counts_normalized/IDConvertedFiles/counts_vst_'+x+'.converted.csv')\n",
    "    filter_genes = ['6192','8284','5616','8653','8287','246126','7404','7544','9086','9087'] # filter list\n",
    "    df.drop(filter_genes).to_csv('../data/counts_normalized/IDConvertedFiles/counts_vstcf_'+x+'.converted.csv')"
   ]
  },
  {
   "cell_type": "code",
   "execution_count": null,
   "metadata": {},
   "outputs": [],
   "source": []
  }
 ],
 "metadata": {
  "interpreter": {
   "hash": "22275e08fd07be4d2d70dfb9fc8235630332d172fc5de4262d498fe792fd2e53"
  },
  "kernelspec": {
   "display_name": "Python 3.8.2 64-bit ('r-py-test': conda)",
   "name": "python3"
  },
  "language_info": {
   "codemirror_mode": {
    "name": "ipython",
    "version": 3
   },
   "file_extension": ".py",
   "mimetype": "text/x-python",
   "name": "python",
   "nbconvert_exporter": "python",
   "pygments_lexer": "ipython3",
   "version": "3.8.2"
  },
  "orig_nbformat": 4
 },
 "nbformat": 4,
 "nbformat_minor": 2
}
